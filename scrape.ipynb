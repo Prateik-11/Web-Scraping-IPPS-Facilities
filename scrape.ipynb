{
 "cells": [
  {
   "cell_type": "code",
   "execution_count": 1,
   "metadata": {},
   "outputs": [],
   "source": [
    "from selenium import webdriver\n",
    "from selenium.webdriver.common.keys import Keys\n",
    "from selenium.webdriver.chrome.service import Service\n",
    "from webdriver_manager.chrome import ChromeDriverManager\n",
    "from selenium.webdriver.common.by import By\n",
    "import pandas as pd\n",
    "import re\n",
    "import time"
   ]
  },
  {
   "cell_type": "code",
   "execution_count": 47,
   "metadata": {},
   "outputs": [
    {
     "name": "stdout",
     "output_type": "stream",
     "text": [
      "\n"
     ]
    },
    {
     "name": "stderr",
     "output_type": "stream",
     "text": [
      "[WDM] - ====== WebDriver manager ======\n",
      "[WDM] - Current google-chrome version is 103.0.5060\n",
      "[WDM] - Get LATEST chromedriver version for 103.0.5060 google-chrome\n",
      "[WDM] - Driver [C:\\Users\\email\\.wdm\\drivers\\chromedriver\\win32\\103.0.5060.53\\chromedriver.exe] found in cache\n"
     ]
    }
   ],
   "source": [
    "def url_state(offset, state):\n",
    "    return 'https://data.cms.gov/tools/medicare-inpatient-hospital-look-up-tool?size=100&offset=' + str(offset) + '&state=' + str(state)\n",
    "\n",
    "states = [\n",
    "    'AK', 'AL', 'AR', 'AZ', 'CA', 'CO', 'CT', 'DC', 'DE', 'FL', 'GA',\n",
    "    'HI', 'IA', 'ID', 'IL', 'IN', 'KS', 'KY', 'LA', 'MA', 'MD', 'ME',\n",
    "    'MI', 'MN', 'MO', 'MS', 'MT', 'NC', 'ND', 'NE', 'NH', 'NJ', 'NM',\n",
    "    'NV', 'NY', 'OH', 'OK', 'OR', 'PA', 'RI', 'SC', 'SD', 'TN', 'TX',\n",
    "    'UT', 'VA', 'VT', 'WA', 'WI', 'WV', 'WY'\n",
    "    ]\n",
    "\n",
    "service = Service(ChromeDriverManager().install())\n",
    "service.SuppressInitialDiagnosticInformation = True"
   ]
  },
  {
   "cell_type": "code",
   "execution_count": 48,
   "metadata": {},
   "outputs": [],
   "source": [
    "driver = webdriver.Chrome(service = service)"
   ]
  },
  {
   "cell_type": "code",
   "execution_count": null,
   "metadata": {},
   "outputs": [],
   "source": [
    "# driver.get(url_state(0, \"AL\"))\n",
    "# time.sleep(2)\n",
    "# table = driver.find_element(By.XPATH, \"/html/body/div/div/div/div/div/div/div[5]/div[1]/div/div/div[2]\").text.split('\\n')\n",
    "# # print(table.text)\n",
    "# for i in [3 * x for x in range(len(table) // 3)]:\n",
    "#     print(table[i])\n",
    "#     print(table[i+1])\n",
    "#     print(table[i+2])"
   ]
  },
  {
   "cell_type": "code",
   "execution_count": 52,
   "metadata": {},
   "outputs": [
    {
     "name": "stdout",
     "output_type": "stream",
     "text": [
      "WY done!\r"
     ]
    }
   ],
   "source": [
    "total_results = []\n",
    "\n",
    "for state in states:\n",
    "    # load state page\n",
    "    driver.get(url_state(0, state))\n",
    "    time.sleep(1.5)\n",
    "    # obtain number of results for the state\n",
    "    no_of_results = int(driver.find_element(by = By.XPATH, value = \"/html/body/div/div/div/div/div/div/div[5]/div[1]/div/div/div[1]/div[1]/span[2]\").text)\n",
    "    \n",
    "    state_results = []\n",
    "\n",
    "    # get every page in this state's results\n",
    "    for offset in [100 * x for x in range(no_of_results // 100 + 1)]:\n",
    "        page = []\n",
    "        driver.get(url_state(offset, state))\n",
    "        time.sleep(1.5) # wait for page to load\n",
    "        results = driver.find_element(By.XPATH, \"/html/body/div/div/div/div/div/div/div[5]/div[1]/div/div/div[2]\").text.split('\\n')\n",
    "        for i in [3 * x for x in range(len(results) // 3)]:\n",
    "            row = []\n",
    "            row.append(results[i])\n",
    "            row.append(results[i+1])\n",
    "            row.append(results[i+2])\n",
    "            page.append(row)\n",
    "        state_results = state_results + page\n",
    "        print(state + \" done!\", end='\\r')\n",
    "    \n",
    "    total_results = total_results + state_results\n",
    "        \n"
   ]
  },
  {
   "cell_type": "code",
   "execution_count": 54,
   "metadata": {},
   "outputs": [],
   "source": [
    "total_results\n",
    "pd.DataFrame(total_results).to_csv(\"Facilities_1.csv\")"
   ]
  },
  {
   "cell_type": "markdown",
   "metadata": {},
   "source": [
    "Clean the data in R and import it:"
   ]
  },
  {
   "cell_type": "code",
   "execution_count": 57,
   "metadata": {},
   "outputs": [
    {
     "data": {
      "text/html": [
       "<div>\n",
       "<style scoped>\n",
       "    .dataframe tbody tr th:only-of-type {\n",
       "        vertical-align: middle;\n",
       "    }\n",
       "\n",
       "    .dataframe tbody tr th {\n",
       "        vertical-align: top;\n",
       "    }\n",
       "\n",
       "    .dataframe thead th {\n",
       "        text-align: right;\n",
       "    }\n",
       "</style>\n",
       "<table border=\"1\" class=\"dataframe\">\n",
       "  <thead>\n",
       "    <tr style=\"text-align: right;\">\n",
       "      <th></th>\n",
       "      <th>Name</th>\n",
       "      <th>City</th>\n",
       "      <th>State</th>\n",
       "      <th>CCN</th>\n",
       "    </tr>\n",
       "  </thead>\n",
       "  <tbody>\n",
       "    <tr>\n",
       "      <th>0</th>\n",
       "      <td>Alaska Native Medical Center</td>\n",
       "      <td>Anchorage</td>\n",
       "      <td>AK</td>\n",
       "      <td>020026</td>\n",
       "    </tr>\n",
       "    <tr>\n",
       "      <th>1</th>\n",
       "      <td>Alaska Regional Hospital</td>\n",
       "      <td>Anchorage</td>\n",
       "      <td>AK</td>\n",
       "      <td>020017</td>\n",
       "    </tr>\n",
       "    <tr>\n",
       "      <th>2</th>\n",
       "      <td>Bartlett Regional Hospital</td>\n",
       "      <td>Juneau</td>\n",
       "      <td>AK</td>\n",
       "      <td>020008</td>\n",
       "    </tr>\n",
       "    <tr>\n",
       "      <th>3</th>\n",
       "      <td>Central Peninsula General Hospital</td>\n",
       "      <td>Soldotna</td>\n",
       "      <td>AK</td>\n",
       "      <td>020024</td>\n",
       "    </tr>\n",
       "    <tr>\n",
       "      <th>4</th>\n",
       "      <td>Fairbanks Memorial Hospital</td>\n",
       "      <td>Fairbanks</td>\n",
       "      <td>AK</td>\n",
       "      <td>020012</td>\n",
       "    </tr>\n",
       "    <tr>\n",
       "      <th>...</th>\n",
       "      <td>...</td>\n",
       "      <td>...</td>\n",
       "      <td>...</td>\n",
       "      <td>...</td>\n",
       "    </tr>\n",
       "    <tr>\n",
       "      <th>3117</th>\n",
       "      <td>Sagewest Health Care</td>\n",
       "      <td>Riverton</td>\n",
       "      <td>WY</td>\n",
       "      <td>530008</td>\n",
       "    </tr>\n",
       "    <tr>\n",
       "      <th>3118</th>\n",
       "      <td>Sheridan Memorial Hospital</td>\n",
       "      <td>Sheridan</td>\n",
       "      <td>WY</td>\n",
       "      <td>530006</td>\n",
       "    </tr>\n",
       "    <tr>\n",
       "      <th>3119</th>\n",
       "      <td>St Johns Medical Center</td>\n",
       "      <td>Jackson</td>\n",
       "      <td>WY</td>\n",
       "      <td>530015</td>\n",
       "    </tr>\n",
       "    <tr>\n",
       "      <th>3120</th>\n",
       "      <td>Summit Medical Center</td>\n",
       "      <td>Casper</td>\n",
       "      <td>WY</td>\n",
       "      <td>530034</td>\n",
       "    </tr>\n",
       "    <tr>\n",
       "      <th>3121</th>\n",
       "      <td>Wyoming Medical Center</td>\n",
       "      <td>Casper</td>\n",
       "      <td>WY</td>\n",
       "      <td>530012</td>\n",
       "    </tr>\n",
       "  </tbody>\n",
       "</table>\n",
       "<p>3122 rows × 4 columns</p>\n",
       "</div>"
      ],
      "text/plain": [
       "                                    Name       City State     CCN\n",
       "0           Alaska Native Medical Center  Anchorage    AK  020026\n",
       "1               Alaska Regional Hospital  Anchorage    AK  020017\n",
       "2             Bartlett Regional Hospital     Juneau    AK  020008\n",
       "3     Central Peninsula General Hospital   Soldotna    AK  020024\n",
       "4            Fairbanks Memorial Hospital  Fairbanks    AK  020012\n",
       "...                                  ...        ...   ...     ...\n",
       "3117                Sagewest Health Care   Riverton    WY  530008\n",
       "3118          Sheridan Memorial Hospital   Sheridan    WY  530006\n",
       "3119             St Johns Medical Center    Jackson    WY  530015\n",
       "3120               Summit Medical Center     Casper    WY  530034\n",
       "3121              Wyoming Medical Center     Casper    WY  530012\n",
       "\n",
       "[3122 rows x 4 columns]"
      ]
     },
     "execution_count": 57,
     "metadata": {},
     "output_type": "execute_result"
    }
   ],
   "source": [
    "facilities = pd.read_csv(\"facilities_1_clean.csv\", dtype='string')\n",
    "facilities"
   ]
  }
 ],
 "metadata": {
  "kernelspec": {
   "display_name": "Python 3.9.7 ('base')",
   "language": "python",
   "name": "python3"
  },
  "language_info": {
   "codemirror_mode": {
    "name": "ipython",
    "version": 3
   },
   "file_extension": ".py",
   "mimetype": "text/x-python",
   "name": "python",
   "nbconvert_exporter": "python",
   "pygments_lexer": "ipython3",
   "version": "3.9.7"
  },
  "orig_nbformat": 4,
  "vscode": {
   "interpreter": {
    "hash": "f96c0a065a6f038b4d81e02ec5e62503dd3b71442db074018719e130d8db16de"
   }
  }
 },
 "nbformat": 4,
 "nbformat_minor": 2
}
